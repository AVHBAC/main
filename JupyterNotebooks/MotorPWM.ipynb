{
 "cells": [
  {
   "cell_type": "markdown",
   "id": "75aeb4db-0b66-4eac-aaa8-ce6b6a02bc90",
   "metadata": {},
   "source": [
    "# PWM(From Axi Timer)"
   ]
  },
  {
   "cell_type": "markdown",
   "id": "b98ab9b4-6c67-470e-b7b4-e9605f9bb4c8",
   "metadata": {},
   "source": [
    "## Pulse Width Modulation Mode\n",
    "#### Pulse Width Modulation (PWM) mode has the following programming sequence:\n",
    "#### • The mode for both Timer 0 and Timer 1 must be set to Generate mode (bit MDT in the TCSR set to 0).\n",
    "\n",
    "#### • The PWMA0 bit in TCSR0 and PWMB0 bit in TCSR1 must be set to 1 to enable PWM mode.\n",
    "#### • The GenerateOut signals must be enabled in the TCSR (bit GENT set to 1). The PWM0 signal is generated from the GenerateOut signals of Timer 0 and Timer 1, so these signals must be enabled in both timer/counters.\n",
    "#### • The assertion level of the GenerateOut signals for both timers in the pair must be set to Active High.\n",
    "#### • The counter can be set to count up or down.\n",
    "- https://docs.amd.com/v/u/en-US/pg079-axi-timer\n",
    "- https://pynq.readthedocs.io/en/v2.5/pynq_package/pynq.overlay.html\n",
    "## Pinout\n",
    "### PWM: PMOD Pin3"
   ]
  },
  {
   "cell_type": "code",
   "execution_count": 8,
   "id": "596c9beb-7649-40d5-9999-baee9efa0d6f",
   "metadata": {},
   "outputs": [],
   "source": [
    "from pynq import Overlay\n",
    "overlay = Overlay('MainDesign.bit')"
   ]
  },
  {
   "cell_type": "code",
   "execution_count": null,
   "id": "db9c1ee6-199f-442c-8c47-9b92e207f1bd",
   "metadata": {},
   "outputs": [],
   "source": [
    "overlay?"
   ]
  },
  {
   "cell_type": "code",
   "execution_count": 12,
   "id": "1cbee7c3-a491-40e4-a0bd-93ff85d5f455",
   "metadata": {},
   "outputs": [
    {
     "name": "stdout",
     "output_type": "stream",
     "text": [
      "{'TCSR0': {'address_offset': 0, 'size': 32, 'access': 'read-write', 'description': 'Timer 0 Control and Status Register', 'fields': {'MDT0': {'bit_offset': 0, 'bit_width': 1, 'access': 'read-write', 'description': 'Timer 0 Mode\\n0 - Timer mode is generate\\n1 - Timer mode is capture\\n'}, 'UDT0': {'bit_offset': 1, 'bit_width': 1, 'access': 'read-write', 'description': 'Up/Down Count Timer 0\\n  0 - Timer functions as up counter\\n  1 - Timer functions as down counter\\n'}, 'GENT0': {'bit_offset': 2, 'bit_width': 1, 'access': 'read-write', 'description': 'Enable External Generate Signal Timer 0\\n  0 - Disables external generate signal\\n  1 - Enables external generate signal\\n'}, 'CAPT0': {'bit_offset': 3, 'bit_width': 1, 'access': 'read-write', 'description': 'Enable External Capture Trigger Timer 0\\n  0 - Disables external capture trigger\\n  1 - Enables external capture trigger\\n'}, 'ARHT0': {'bit_offset': 4, 'bit_width': 1, 'access': 'read-write', 'description': 'Auto Reload/Hold Timer 0.\\nWhen the timer is in Generate mode, this bit determines whether the counter reloads the generate value and continues running or holds at the termination value. \\nIn Capture mode, this bit determines whether a new capture trigger overwrites the previous captured value or if the previous value is held.      0 = Hold counter or capture value. The TLR must be read before providing the external capture.      1 = Reload generate value or overwrite capture value\\n'}, 'LOAD0': {'bit_offset': 5, 'bit_width': 1, 'access': 'read-write', 'description': 'Load Timer 0      0 = No load      1 = Loads timer with value in TLR0 Setting this bit loads timer/counter register (TCR0) with a specified value in the timer/counter load register (TLR0).  This bit prevents the running of the timer/counter; hence, this should be cleared alongside setting Enable Timer/ Counter (ENT0) bit in TCSR0.\\n'}, 'ENIT0': {'bit_offset': 6, 'bit_width': 1, 'access': 'read-write', 'description': 'Enable Interrupt for Timer 0\\nEnables the assertion of the interrupt signal for this timer. Has no effect on the interrupt flag (T0INT) in TCSR0.      0 - Disable interrupt signal   1 - Enable interrupt signal\\n'}, 'ENT0': {'bit_offset': 7, 'bit_width': 1, 'access': 'read-write', 'description': 'Enable Timer 0\\n  0 - Disable timer (counter halts)\\n  1 - Enable timer (counter runs)\\n'}, 'T0INT': {'bit_offset': 8, 'bit_width': 1, 'access': 'read-write', 'description': 'Timer 0 Interrupt\\nIndicates that the condition for an interrupt on this timer has occurred. If the timer mode is capture and the timer is enabled, this bit indicates a capture has occurred. If the mode is generate, this bit indicates the counter has rolled over. Must be cleared by writing a 1.\\nRead:      0 - No interrupt has occurred      1 - Interrupt has occurred  Write:      0 - No change in state of T0INT   1 - Clear T0INT (clear to 0)\\n'}, 'PWMA0': {'bit_offset': 9, 'bit_width': 1, 'access': 'read-write', 'description': 'Enable Pulse Width Modulation for Timer 0      0 - Disable pulse width modulation      1 - Enable pulse width modulation PWM requires using Timer 0 and Timer 1 together as a pair.  Timer 0 sets the period of the PWM output, and Timer 1 sets the high time for the PWM output. For PWM mode, MDT0 and MDT1 must be 0 and C_GEN0_ASSERT and C_GEN1_ASSERT must be 1.\\n'}, 'ENALL': {'bit_offset': 10, 'bit_width': 1, 'access': 'read-write', 'description': 'Enable All Timers      0 - No effect on timers      1 - Enable all timers (counters run) This bit is mirrored in all control/status registers and is used to enable all counters simultaneously. Writing a 1 to this bit sets ENALL, ENT0, and ENT1. \\nWriting a 0 to this register clears ENALL but has no effect on ENT0 and ENT1. \\n'}, 'CASC': {'bit_offset': 11, 'bit_width': 1, 'access': 'read-write', 'description': 'Enable cascade mode of timers      0 - Disable cascaded operation      1 - Enable cascaded operation Cascaded operation requires using Timer 0 and Timer 1 together as a pair.  The counting event for the Timer 1 is when the Timer 0 rolls over from all 1s to all 0s or vice-versa when counting down.\\nTLR0 and TLR1 are used for lower 32-bit and higher 32-bit respectively. Similarly, TCR0 contains lower 32-bits for the 64-bit counter and TCR1 contains the higher 32-bits.\\nOnly TCSR0 is valid for both the timer/counters in this mode.\\nThis CASC bit must be set before enabling the timer/counter.\\n'}}}, 'TLR0': {'address_offset': 4, 'size': 32, 'access': 'read-write', 'description': 'Timer 0 Load Register', 'fields': {'TCLR0': {'bit_offset': 0, 'bit_width': 32, 'access': 'read-write', 'description': 'Timer/Counter Load Register\\n'}}}, 'TCR0': {'address_offset': 8, 'size': 32, 'access': 'read-only', 'description': 'Timer 0 Counter Register', 'fields': {'TCR0': {'bit_offset': 0, 'bit_width': 32, 'access': 'read-only', 'description': 'Timer/Counter Register\\n'}}}, 'TCSR1': {'address_offset': 16, 'size': 32, 'access': 'read-write', 'description': 'Timer 1 Control and Status Register', 'fields': {'MDT1': {'bit_offset': 0, 'bit_width': 1, 'access': 'read-write', 'description': 'Timer 1 Mode\\n  0 - Timer mode is generate\\n  1 - Timer mode is capture\\n'}, 'UDT1': {'bit_offset': 1, 'bit_width': 1, 'access': 'read-write', 'description': 'Up/Down Count Timer 1\\n  0 - Timer functions as up counter\\n  1 - Timer functions as down counter\\n'}, 'GENT1': {'bit_offset': 2, 'bit_width': 1, 'access': 'read-write', 'description': 'Enable External Generate Signal Timer 1\\n  0 - Disables external generate signal\\n  1 - Enables external generate signal\\n'}, 'CAPT1': {'bit_offset': 3, 'bit_width': 1, 'access': 'read-write', 'description': 'Enable External Capture Trigger Timer 1\\n  0 - Disables external capture trigger\\n  1 - Enables external capture trigger\\n'}, 'ARHT1': {'bit_offset': 4, 'bit_width': 1, 'access': 'read-write', 'description': 'Auto Reload/Hold Timer 1.\\nWhen the timer is in Generate mode, this bit determines whether the counter reloads the generate value and continues running or holds at the termination value. \\nIn Capture mode, this bit determines whether a new capture trigger overwrites the previous captured value or if the previous value is held.\\n0 = Hold counter or capture value. The TLR must be read before providing the external capture.   \\n1 = Reload generate value or overwrite capture value\\n'}, 'LOAD1': {'bit_offset': 5, 'bit_width': 1, 'access': 'read-write', 'description': 'Load Timer 1      0 = No load      1 = Loads timer with value in TLR1 Setting this bit loads timer/counter register (TCR1) with a specified value in the timer/counter load register (TLR1).  This bit prevents the running of the timer/counter; hence, this should be cleared alongside setting Enable Timer/ Counter (ENT1) bit in TCSR1.\\n'}, 'ENIT1': {'bit_offset': 6, 'bit_width': 1, 'access': 'read-write', 'description': 'Enable Interrupt for Timer 1\\nEnables the assertion of the interrupt signal for this timer. Has no effect on the interrupt flag (T1INT) in TCSR1.      0 - Disable interrupt signal      1 - Enable interrupt signal\\n'}, 'ENT1': {'bit_offset': 7, 'bit_width': 1, 'access': 'read-write', 'description': 'Enable Timer 1\\n  0 - Disable timer (counter halts)\\n  1 - Enable timer (counter runs)\\n'}, 'T1INT': {'bit_offset': 8, 'bit_width': 1, 'access': 'read-write', 'description': 'Timer 1 Interrupt\\nIndicates that the condition for an interrupt on this timer has occurred. If the timer mode is capture and the timer is enabled, this bit indicates a capture has occurred. If the mode is generate, this bit indicates the counter has rolled over. Must be cleared by writing a 1.\\nRead:      0 - No interrupt has occurred      1 - Interrupt has occurred  Write:      0 - No change in state of T0INT      1 - Clear T1INT (clear to 0)\\n'}, 'PWMA1': {'bit_offset': 9, 'bit_width': 1, 'access': 'read-write', 'description': 'Enable Pulse Width Modulation for Timer 1      0 - Disable pulse width modulation      1 - Enable pulse width modulation  PWM requires using Timer 0 and Timer 1 together as a pair. Timer 0 sets the period of the PWM output, and Timer 1 sets the high time for the PWM output. For PWM mode, MDT0 and MDT1 must be 0.\\n'}, 'ENALL': {'bit_offset': 10, 'bit_width': 1, 'access': 'read-write', 'description': 'Enable All Timers      0 - No effect on timers      1 - Enable all timers (counters run)  This bit is mirrored in all control/status registers and is used to enable all counters simultaneously. Writing a 1 to this bit sets ENALL, ENT0, and ENT1. Writing a 0 to this register clears ENALL but has no effect on ENT0 and ENT1. \\n'}}}, 'TLR1': {'address_offset': 20, 'size': 32, 'access': 'read-write', 'description': 'Timer 1 Load Register', 'fields': {'TCLR1': {'bit_offset': 0, 'bit_width': 32, 'access': 'read-write', 'description': 'Timer/Counter Load Register\\n'}}}, 'TCR1': {'address_offset': 24, 'size': 32, 'access': 'read-only', 'description': 'Timer 1 Counter Register', 'fields': {'TCR1': {'bit_offset': 0, 'bit_width': 32, 'access': 'read-only', 'description': 'Timer/Counter Register\\n'}}}}\n"
     ]
    }
   ],
   "source": [
    "print(overlay.ip_dict['axi_timer_0']['registers']) # Thank lord for the JSON format, how else can I gouge my eyes out"
   ]
  },
  {
   "cell_type": "code",
   "execution_count": 36,
   "id": "1075e0a2-c682-4139-a9bc-26308d11f0c9",
   "metadata": {},
   "outputs": [],
   "source": [
    "# utility functions for interactin with specific bits, not needed anymore after testing\n",
    "def set_bit(value, bit):\n",
    "    return value | (1 << bit)\n",
    "\n",
    "\n",
    "# Set the specified bit to 0\n",
    "def clear_bit(value, bit):\n",
    "    return value & ~(1 << bit)\n"
   ]
  },
  {
   "cell_type": "code",
   "execution_count": 33,
   "id": "ee83b165-e4e9-4e44-915c-6e915f4a0384",
   "metadata": {},
   "outputs": [
    {
     "name": "stdout",
     "output_type": "stream",
     "text": [
      "0b1010010110\n",
      "0b1010010110\n"
     ]
    }
   ],
   "source": [
    "# Referencing axi_timer IP\n",
    "PWM = overlay.axi_timer_0\n",
    "\n",
    "# Extracting register addresses for later\n",
    "TCSR0 = overlay.ip_dict['axi_timer_0']['registers']['TCSR0']\n",
    "TCSR1 = overlay.ip_dict['axi_timer_0']['registers']['TCSR1']\n",
    "TLR0 = overlay.ip_dict['axi_timer_0']['registers']['TLR0']\n",
    "TLR1 = overlay.ip_dict['axi_timer_0']['registers']['TLR1']\n",
    "\n",
    "\n",
    "# init configuration values for TSCR0 and TSCR1 registers respectively\n",
    "temp_val_0, temp_val_1 = 0b1010010110, 0b1010010110\n",
    "\n",
    "\n",
    "# # The PWMA0 bit in TCSR0 and PWMB0 bit in TCSR1 must be set to 1 to enable PWM mode.\n",
    "# temp_val_0 = set_bit(temp_val_0, TCSR0_register['PWMA0']['bit_offset'])\n",
    "# temp_val_1 = set_bit(temp_val_1, TCSR1_register['PWMA1']['bit_offset'])\n",
    "\n",
    "# # The GenerateOut signals must be enabled in the TCSR (bit GENT set to 1). The PWM0\n",
    "# # signal is generated from the GenerateOut signals of Timer 0 and Timer 1, so these\n",
    "# # signals must be enabled in both timer/counters\n",
    "# temp_val_0 = set_bit(temp_val_0, TCSR0_register['GENT0']['bit_offset'])\n",
    "# temp_val_1 = set_bit(temp_val_1, TCSR1_register['GENT1']['bit_offset'])\n",
    "\n",
    "# # The counter can be set to count up or down. UDT\n",
    "# temp_val_0 = set_bit(temp_val_0, TCSR0_register['UDT0']['bit_offset'])\n",
    "# temp_val_1 = set_bit(temp_val_1, TCSR1_register['UDT1']['bit_offset'])\n",
    "\n",
    "# # Setting Autoreload (ARHT0 = 1)\n",
    "# temp_val_0 = set_bit(temp_val_0, TCSR0_register['ARHT0']['bit_offset'])\n",
    "# temp_val_1 = set_bit(temp_val_1, TCSR1_register['ARHT1']['bit_offset'])\n",
    "\n",
    "# # Enable timer (ENT0 = 1)\n",
    "# temp_val_0 = set_bit(temp_val_0, TCSR0_register['ENT0']['bit_offset'])\n",
    "# temp_val_1 = set_bit(temp_val_1, TCSR1_register['ENT1']['bit_offset'])\n",
    "\n",
    "print(bin(temp_val_0))\n",
    "print(bin(temp_val_1))"
   ]
  },
  {
   "cell_type": "code",
   "execution_count": 34,
   "id": "c7c84a3b-a3ba-42dc-87fb-10d8ca75f743",
   "metadata": {},
   "outputs": [],
   "source": [
    "# COnfigurable PWM values \n",
    "def SetPWM(DutyCycle):\n",
    "    if DutyCycle >= 100:\n",
    "        print(\"Range is 0 - 99(in percentage)\")\n",
    "    else:\n",
    "        _period_ = 20000  # 50Hz, 20ms\n",
    "\n",
    "        period = int((_period_ & 0x0ffff) *100);\n",
    "        pulse = int((DutyCycle & 0x07f)*period/100);\n",
    "        print(f\"period: {period}\")\n",
    "        print(f\"pulse: {DutyCycle}%\")\n",
    "\n",
    "        PWM.write(TCSR0['address_offset'], temp_val_0)\n",
    "        PWM.write(TCSR1['address_offset'], temp_val_1)\n",
    "        PWM.write(TLR0['address_offset'], period)\n",
    "        PWM.write(TLR1['address_offset'], pulse)"
   ]
  },
  {
   "cell_type": "code",
   "execution_count": 35,
   "id": "14e37c2b-d969-47af-b1cd-cea5bd762c2a",
   "metadata": {},
   "outputs": [
    {
     "name": "stdout",
     "output_type": "stream",
     "text": [
      "period: 2000000\n",
      "pulse: 55%\n"
     ]
    }
   ],
   "source": [
    "SetPWM(55)"
   ]
  },
  {
   "cell_type": "code",
   "execution_count": null,
   "id": "9d6c0619-243f-4b6d-b7bb-0b7a3c8b6ad8",
   "metadata": {},
   "outputs": [],
   "source": []
  }
 ],
 "metadata": {
  "kernelspec": {
   "display_name": "Python 3 (ipykernel)",
   "language": "python",
   "name": "python3"
  },
  "language_info": {
   "codemirror_mode": {
    "name": "ipython",
    "version": 3
   },
   "file_extension": ".py",
   "mimetype": "text/x-python",
   "name": "python",
   "nbconvert_exporter": "python",
   "pygments_lexer": "ipython3",
   "version": "3.10.12"
  }
 },
 "nbformat": 4,
 "nbformat_minor": 5
}
