{
 "cells": [
  {
   "cell_type": "markdown",
   "id": "57ecff74-d9f7-4891-bd55-f72e6ed39b77",
   "metadata": {},
   "source": [
    "- Contains setting up GPIO button as input and having it generate an interrupt\n",
    "- Also contains an asyncio architecture for everything "
   ]
  },
  {
   "cell_type": "code",
   "execution_count": null,
   "id": "0e426762-c8c4-4dd6-b867-35554a801112",
   "metadata": {},
   "outputs": [],
   "source": [
    "from pynq import Overlay, interrupt\n",
    "from pynq.lib import axigpio\n",
    "from IPython.display import clear_output\n",
    "\n",
    "import asyncio\n",
    "import time\n",
    "\n",
    "# LOad overlay\n",
    "overlay = Overlay('MainDesign.bit')"
   ]
  },
  {
   "cell_type": "code",
   "execution_count": null,
   "id": "9d36e964-f7ef-4103-b160-13d30c941161",
   "metadata": {},
   "outputs": [],
   "source": [
    "overlay?"
   ]
  },
  {
   "cell_type": "code",
   "execution_count": null,
   "id": "aeddc600-8f3a-4df4-969d-e4873f8fafb8",
   "metadata": {},
   "outputs": [],
   "source": [
    "gpio_ip = overlay.axi_gpio_0\n",
    "gpio_ip.setdirection(\"in\")\n",
    "gpio_interrupt = gpio_ip.ip2intc_irpt\n",
    "\n",
    "# Access the register map\n",
    "gpio_register_map = gpio_ip.register_map\n",
    "\n",
    "print(gpio_ip._interrupts)\n",
    "print(gpio_ip.register_map)\n",
    "overlay.interrupt_pins"
   ]
  },
  {
   "cell_type": "code",
   "execution_count": null,
   "id": "5fb4fc1f-004e-49e9-870e-095befbc6e92",
   "metadata": {},
   "outputs": [],
   "source": [
    "interrupt1 = interrupt.Interrupt('axi_gpio_0/ip2intc_irpt')\n",
    "async def GPIO_handler():\n",
    "    await interrupt1.wait()\n",
    "    while True:\n",
    "        if gpio_ip.read() == 1:\n",
    "            print(\"GPIO Interrupt occurred!\")\n",
    "            \n",
    "            # Clearing the interrupt\n",
    "            gpio_register_map.IP_ISR.Channel_1_Interrupt_Status = 1\n",
    "            break\n",
    "            "
   ]
  },
  {
   "cell_type": "code",
   "execution_count": null,
   "id": "514dcc3a-35cb-490d-afa3-b6df7ff89935",
   "metadata": {},
   "outputs": [],
   "source": [
    "if __name__ == '__main__':\n",
    "    # Main asyncio loop\n",
    "    loop = asyncio.get_event_loop()\n",
    "    \n",
    "    # Enable the GPIO interrupt\n",
    "    gpio_register_map.IP_IER.Channel_1_Interrupt_Enable = 1\n",
    "    try:\n",
    "        # Run the interrupt handler coroutine until\n",
    "        loop.run_until_complete(GPIO_handler())\n",
    "    except KeyboardInterrupt:\n",
    "        print(\"Script interrupted by user.\")"
   ]
  }
 ],
 "metadata": {
  "kernelspec": {
   "display_name": "Python 3 (ipykernel)",
   "language": "python",
   "name": "python3"
  },
  "language_info": {
   "codemirror_mode": {
    "name": "ipython",
    "version": 3
   },
   "file_extension": ".py",
   "mimetype": "text/x-python",
   "name": "python",
   "nbconvert_exporter": "python",
   "pygments_lexer": "ipython3",
   "version": "3.10.12"
  }
 },
 "nbformat": 4,
 "nbformat_minor": 5
}
