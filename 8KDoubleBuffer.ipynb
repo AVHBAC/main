{
 "cells": [
  {
   "cell_type": "markdown",
   "id": "41952296-dc2e-417b-be78-316e65c65427",
   "metadata": {},
   "source": [
    "# Converting Prof's Double Buffer from C to Python"
   ]
  },
  {
   "cell_type": "code",
   "execution_count": null,
   "id": "2adf4c0d-99b5-444c-bdb4-7b48c1461b47",
   "metadata": {},
   "outputs": [],
   "source": [
    "highest_sensor_count = 2045 # for ADXL345 i think :P\n",
    "\n",
    "# Iinit class to store all values(couldve used a dictionary/unorderedmap but this is easier to debug)\n",
    "class Storage:\n",
    "    def __init__(self):\n",
    "        self.SSec = 0\n",
    "        self.Blank1 = 0\n",
    "        self.Blank2 = 0\n",
    "        self.Blank3 = 0\n",
    "        self.Blank4 = 0\n",
    "        self.Blank5 = 0\n",
    "        self.Blank6 = 0\n",
    "        self.Blank7 = 0\n",
    "        self.Chew_Sensor_value = [0] * (HIGHEST_SENSOR_COUNT + 1)\n",
    "        self.X = [0] * (HIGHEST_SENSOR_COUNT + 1)\n",
    "        self.Y = [0] * (HIGHEST_SENSOR_COUNT + 1)\n",
    "        self.Z = [0] * (HIGHEST_SENSOR_COUNT + 1)\n",
    "        self.RTC_Time = 0\n",
    "        self.RTC_Date = 0\n",
    "\n",
    "BSbuffer = [Storage(), Storage()]\n",
    "\n",
    "Sub_cnt = 0\n",
    "s_flag = 0\n",
    "w_flag = 0\n",
    "\n",
    "def switch_buffer():\n",
    "    global Sub_cnt, s_flag, w_flag\n",
    "    if Sub_cnt == highest_sensor_count:\n",
    "        # If the previous s_flag was 0 then flip to 1 and vice versa\n",
    "        if s_flag == 0:\n",
    "            w_flag = 0\n",
    "            s_flag = 1\n",
    "        else:\n",
    "            w_flag = 1\n",
    "            s_flag = 0\n",
    "    else:\n",
    "        Sub_cnt += 1\n",
    "        \n",
    "# Presuming the data is 48 bits(this is prolly for the ADXL345)\n",
    "def write_data(xyzValB):\n",
    "    global Sub_cnt, s_flag\n",
    "    # Stores the data into storage 0 or 1 depending on that s_flag\n",
    "    BSbuffer[s_flag].X[Sub_cnt] = (xyzValB[1] << 8) + xyzValB[0]\n",
    "    BSbuffer[s_flag].Y[Sub_cnt] = (xyzValB[3] << 8) + xyzValB[2]\n",
    "    BSbuffer[s_flag].Z[Sub_cnt] = (xyzValB[5] << 8) + xyzValB[4]"
   ]
  }
 ],
 "metadata": {
  "kernelspec": {
   "display_name": "Python 3 (ipykernel)",
   "language": "python",
   "name": "python3"
  },
  "language_info": {
   "codemirror_mode": {
    "name": "ipython",
    "version": 3
   },
   "file_extension": ".py",
   "mimetype": "text/x-python",
   "name": "python",
   "nbconvert_exporter": "python",
   "pygments_lexer": "ipython3",
   "version": "3.10.12"
  }
 },
 "nbformat": 4,
 "nbformat_minor": 5
}
