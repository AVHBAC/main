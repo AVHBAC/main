{
 "cells": [
  {
   "cell_type": "code",
   "execution_count": null,
   "id": "2120b85b-51b6-40b9-8eae-b350b7ac7daa",
   "metadata": {},
   "outputs": [],
   "source": [
    "from pynq import Overlay\n",
    "overlay = Overlay('MainDesign.bit')"
   ]
  },
  {
   "cell_type": "code",
   "execution_count": null,
   "id": "47c77250-7dfa-43b4-9753-91371d8df0be",
   "metadata": {
    "tags": []
   },
   "outputs": [],
   "source": [
    "overlay?"
   ]
  },
  {
   "cell_type": "code",
   "execution_count": null,
   "id": "c7f83c74-1dfe-4d5a-bb49-29bf71b07451",
   "metadata": {},
   "outputs": [],
   "source": [
    "from pynq.lib.iic import AxiIIC\n",
    "import time\n",
    "from IPython.display import clear_output"
   ]
  },
  {
   "cell_type": "code",
   "execution_count": null,
   "id": "158f5568-1596-42c1-ac42-3046be60b87a",
   "metadata": {},
   "outputs": [],
   "source": [
    "iic = AxiIIC(overlay.ip_dict[\"axi_iic_0\"])"
   ]
  },
  {
   "cell_type": "markdown",
   "id": "53705208-3e78-4f3e-a9da-8228d6aeb7ad",
   "metadata": {
    "tags": []
   },
   "source": [
    "# ----------------------------------ADXL345 CODE--------------------------------------"
   ]
  },
  {
   "cell_type": "markdown",
   "id": "1b92bee1-ecac-4291-86b0-b3ba9abf5d0b",
   "metadata": {},
   "source": [
    "## Pinout\n",
    "Pin1 : SCL\n",
    "Pin2 : SDA"
   ]
  },
  {
   "cell_type": "code",
   "execution_count": null,
   "id": "f75a412d-8b70-4934-8c3d-0f4a73c2c3c5",
   "metadata": {},
   "outputs": [],
   "source": [
    "def ADXL_set_register(register_address,data): #Usage: (0x__,0x__)\n",
    "    a0 = register_address\n",
    "    sending_data = [a0]\n",
    "    sending_data.append(data)\n",
    "    iic.send(ADXL_address,sending_data,len(sending_data),0)\n",
    "    \n",
    "def ADXL_Receive_Data():\n",
    "    rx_data = bytes(6)\n",
    "    iic.send(ADXL_address,[0x32],1,1)\n",
    "    iic.receive(ADXL_address,rx_data,6,0)\n",
    "    x_byte = int.from_bytes(rx_data[:2],byteorder='little',signed=True)\n",
    "    y_byte = int.from_bytes(rx_data[2:4],byteorder='little',signed=True)\n",
    "    z_byte = int.from_bytes(rx_data[4:6],byteorder='little',signed=True)\n",
    "    print(\"X: \",round(float(x_byte/256),2))\n",
    "    print(\"Y: \",round(float(y_byte/256),2))\n",
    "    print(\"Z: \",round(float(z_byte/256)-1,2))"
   ]
  },
  {
   "cell_type": "code",
   "execution_count": null,
   "id": "f864e6b7-30b1-4c13-82b6-d2f63b6ae9cf",
   "metadata": {},
   "outputs": [],
   "source": [
    "ADXL_Enable_Register = 0x2D\n",
    "ADXL_address = 0x53"
   ]
  },
  {
   "cell_type": "code",
   "execution_count": null,
   "id": "a6518f35-15a8-44b0-babd-0697f9f554fb",
   "metadata": {},
   "outputs": [],
   "source": [
    "ADXL_set_register(ADXL_Enable_Register,0x08)"
   ]
  },
  {
   "cell_type": "markdown",
   "id": "167e99b6-995a-49d7-abe1-a41563961ed0",
   "metadata": {},
   "source": [
    "## Main Get Coords Loop"
   ]
  },
  {
   "cell_type": "code",
   "execution_count": null,
   "id": "3d0d26c1-d79f-4d7e-a669-063705189d1e",
   "metadata": {},
   "outputs": [],
   "source": [
    "for i in range(1000):\n",
    "    clear_output(wait=True)\n",
    "    ADXL_Receive_Data()\n",
    "    time.sleep(0.1)\n",
    "\n",
    "print(\"Done, restart :D\")"
   ]
  },
  {
   "cell_type": "markdown",
   "id": "1c01a55b-8ff5-48e3-a5e7-324f4ab06371",
   "metadata": {},
   "source": [
    "# ------------------------------------VL6180x Code--------------------------------"
   ]
  },
  {
   "cell_type": "code",
   "execution_count": null,
   "id": "7d2b4985-22aa-4a72-a1f1-3d65684ba918",
   "metadata": {},
   "outputs": [],
   "source": [
    "#Variable declarations\n",
    "VL_address = 0x29\n",
    "\n",
    "__VL6180X_IDENTIFICATION_MODEL_ID               = 0x0000\n",
    "__VL6180X_IDENTIFICATION_MODEL_REV_MAJOR        = 0x0001\n",
    "__VL6180X_IDENTIFICATION_MODEL_REV_MINOR        = 0x0002\n",
    "__VL6180X_IDENTIFICATION_MODULE_REV_MAJOR       = 0x0003\n",
    "__VL6180X_IDENTIFICATION_MODULE_REV_MINOR       = 0x0004\n",
    "__VL6180X_IDENTIFICATION_DATE                   = 0x0006    # 16bit value\n",
    "__VL6180X_IDENTIFICATION_TIME                   = 0x0008    # 16bit value\n",
    "\n",
    "__VL6180X_SYSTEM_MODE_GPIO0                     = 0x0010\n",
    "__VL6180X_SYSTEM_MODE_GPIO1                     = 0x0011\n",
    "__VL6180X_SYSTEM_HISTORY_CTRL                   = 0x0012\n",
    "__VL6180X_SYSTEM_INTERRUPT_CONFIG_GPIO          = 0x0014\n",
    "__VL6180X_SYSTEM_INTERRUPT_CLEAR                = 0x0015\n",
    "__VL6180X_SYSTEM_FRESH_OUT_OF_RESET             = 0x0016\n",
    "__VL6180X_SYSTEM_GROUPED_PARAMETER_HOLD         = 0x0017\n",
    "\n",
    "__VL6180X_SYSRANGE_START                        = 0x0018\n",
    "__VL6180X_SYSRANGE_THRESH_HIGH                  = 0x0019\n",
    "__VL6180X_SYSRANGE_THRESH_LOW                   = 0x001A\n",
    "__VL6180X_SYSRANGE_INTERMEASUREMENT_PERIOD      = 0x001B\n",
    "__VL6180X_SYSRANGE_MAX_CONVERGENCE_TIME         = 0x001C\n",
    "__VL6180X_SYSRANGE_CROSSTALK_COMPENSATION_RATE  = 0x001E\n",
    "__VL6180X_SYSRANGE_CROSSTALK_VALID_HEIGHT       = 0x0021\n",
    "__VL6180X_SYSRANGE_EARLY_CONVERGENCE_ESTIMATE   = 0x0022\n",
    "__VL6180X_SYSRANGE_PART_TO_PART_RANGE_OFFSET    = 0x0024\n",
    "__VL6180X_SYSRANGE_RANGE_IGNORE_VALID_HEIGHT    = 0x0025\n",
    "__VL6180X_SYSRANGE_RANGE_IGNORE_THRESHOLD       = 0x0026\n",
    "__VL6180X_SYSRANGE_MAX_AMBIENT_LEVEL_MULT       = 0x002C\n",
    "__VL6180X_SYSRANGE_RANGE_CHECK_ENABLES          = 0x002D\n",
    "__VL6180X_SYSRANGE_VHV_RECALIBRATE              = 0x002E\n",
    "__VL6180X_SYSRANGE_VHV_REPEAT_RATE              = 0x0031\n",
    "\n",
    "__VL6180X_SYSALS_START                          = 0x0038\n",
    "__VL6180X_SYSALS_THRESH_HIGH                    = 0x003A\n",
    "__VL6180X_SYSALS_THRESH_LOW                     = 0x003C\n",
    "__VL6180X_SYSALS_INTERMEASUREMENT_PERIOD        = 0x003E\n",
    "__VL6180X_SYSALS_ANALOGUE_GAIN                  = 0x003F\n",
    "__VL6180X_SYSALS_INTEGRATION_PERIOD             = 0x0040\n",
    "\n",
    "__VL6180X_RESULT_RANGE_STATUS                   = 0x004D\n",
    "__VL6180X_RESULT_ALS_STATUS                     = 0x004E\n",
    "__VL6180X_RESULT_INTERRUPT_STATUS_GPIO          = 0x004F\n",
    "__VL6180X_RESULT_ALS_VAL                        = 0x0050\n",
    "__VL6180X_RESULT_HISTORY_BUFFER                 = 0x0052\n",
    "__VL6180X_RESULT_RANGE_VAL                      = 0x0062\n",
    "__VL6180X_RESULT_RANGE_RAW                      = 0x0064\n",
    "__VL6180X_RESULT_RANGE_RETURN_RATE              = 0x0066\n",
    "__VL6180X_RESULT_RANGE_REFERENCE_RATE           = 0x0068\n",
    "__VL6180X_RESULT_RANGE_RETURN_SIGNAL_COUNT      = 0x006C\n",
    "__VL6180X_RESULT_RANGE_REFERENCE_SIGNAL_COUNT   = 0x0070\n",
    "__VL6180X_RESULT_RANGE_RETURN_AMB_COUNT         = 0x0074\n",
    "__VL6180X_RESULT_RANGE_REFERENCE_AMB_COUNT      = 0x0078\n",
    "__VL6180X_RESULT_RANGE_RETURN_CONV_TIME         = 0x007C\n",
    "__VL6180X_RESULT_RANGE_REFERENCE_CONV_TIME      = 0x0080\n",
    "\n",
    "__VL6180X_READOUT_AVERAGING_SAMPLE_PERIOD       = 0x010A\n",
    "__VL6180X_FIRMWARE_BOOTUP                       = 0x0119\n",
    "__VL6180X_FIRMWARE_RESULT_SCALER                = 0x0120\n",
    "__VL6180X_I2C_SLAVE_DEVICE_ADDRESS              = 0x0212\n",
    "__VL6180X_INTERLEAVED_MODE_ENABLE               = 0x02A3"
   ]
  },
  {
   "cell_type": "markdown",
   "id": "efba14bb-e606-4eb3-bd71-947c001de4fd",
   "metadata": {},
   "source": [
    "### Functions for VL6180X(from Baset)"
   ]
  },
  {
   "cell_type": "code",
   "execution_count": null,
   "id": "a459481f-670f-4b8c-9f66-fc0112e30169",
   "metadata": {},
   "outputs": [],
   "source": [
    "def VL6180x_set_register(register_address,data): #Usage: VL6180x_set_register(0x____,0x__)\n",
    "    a1 = (register_address >> 8) & 0xFF\n",
    "    a0 = register_address & 0xFF\n",
    "    sending_data = [a1,a0]\n",
    "    sending_data.append(data)\n",
    "    iic.send(VL_address,sending_data,len(sending_data),0)\n",
    "    \n",
    "def VL6180x_get_register(register_address):      #Usage: VL6180x_get_register(0x____)\n",
    "    rx_data = bytes(1)\n",
    "    a1 = (register_address >> 8) & 0xFF\n",
    "    a0 = register_address & 0xFF\n",
    "    sending_data = [a1,a0]\n",
    "    iic.send(VL_address,sending_data,len(sending_data),1)\n",
    "    iic.receive(VL_address,rx_data,1,0)\n",
    "    return rx_data\n",
    "    \n",
    "def VL6180x_Run_Required_Settings():\n",
    "    VL6180x_set_register(0x0207, 0x01)\n",
    "    time.sleep(0.1)\n",
    "    VL6180x_set_register(0x0208, 0x01)\n",
    "    time.sleep(0.1)\n",
    "    VL6180x_set_register(0x0096, 0x00)\n",
    "    time.sleep(0.1)\n",
    "    VL6180x_set_register(0x0097, 0xfd)\n",
    "    time.sleep(0.1)\n",
    "    VL6180x_set_register(0x00e3, 0x00)\n",
    "    time.sleep(0.1)\n",
    "    VL6180x_set_register(0x00e4, 0x04)\n",
    "    time.sleep(0.1)\n",
    "    VL6180x_set_register(0x00e5, 0x02)\n",
    "    time.sleep(0.1)\n",
    "    VL6180x_set_register(0x00e6, 0x01)\n",
    "    time.sleep(0.1)\n",
    "    VL6180x_set_register(0x00e7, 0x03)\n",
    "    time.sleep(0.1)\n",
    "    VL6180x_set_register(0x00f5, 0x02)\n",
    "    time.sleep(0.1)\n",
    "    VL6180x_set_register(0x00d9, 0x05)\n",
    "    time.sleep(0.1)\n",
    "    VL6180x_set_register(0x00db, 0xce)\n",
    "    time.sleep(0.1)\n",
    "    VL6180x_set_register(0x00dc, 0x03)\n",
    "    time.sleep(0.1)\n",
    "    VL6180x_set_register(0x00dd, 0xf8)\n",
    "    time.sleep(0.1)\n",
    "    VL6180x_set_register(0x009f, 0x00)\n",
    "    time.sleep(0.1)\n",
    "    VL6180x_set_register(0x00a3, 0x3c)\n",
    "    time.sleep(0.1)\n",
    "    VL6180x_set_register(0x00b7, 0x00)\n",
    "    time.sleep(0.1)\n",
    "    VL6180x_set_register(0x00bb, 0x3c)\n",
    "    time.sleep(0.1)\n",
    "    VL6180x_set_register(0x00b2, 0x09)\n",
    "    time.sleep(0.1)\n",
    "    VL6180x_set_register(0x00ca, 0x09)\n",
    "    time.sleep(0.1)\n",
    "    VL6180x_set_register(0x0198, 0x01)\n",
    "    time.sleep(0.1)\n",
    "    VL6180x_set_register(0x01b0, 0x17)\n",
    "    time.sleep(0.1)\n",
    "    VL6180x_set_register(0x01ad, 0x00)\n",
    "    time.sleep(0.1)\n",
    "    VL6180x_set_register(0x00ff, 0x05)\n",
    "    time.sleep(0.1)\n",
    "    VL6180x_set_register(0x0100, 0x05)\n",
    "    time.sleep(0.1)\n",
    "    VL6180x_set_register(0x0199, 0x05)\n",
    "    time.sleep(0.1)\n",
    "    VL6180x_set_register(0x01a6, 0x1b)\n",
    "    time.sleep(0.1)\n",
    "    VL6180x_set_register(0x01ac, 0x3e)\n",
    "    time.sleep(0.1)\n",
    "    VL6180x_set_register(0x01a7, 0x1f)\n",
    "    time.sleep(0.1)\n",
    "    VL6180x_set_register(0x0030, 0x00)\n",
    "    print(\"Default Settings Loaded\")\n",
    "    \n",
    "def get_distance():\n",
    "    VL6180x_set_register(__VL6180X_SYSRANGE_START, 0x01)\n",
    "    time.sleep(0.010)\n",
    "    distance = VL6180x_get_register(__VL6180X_RESULT_RANGE_VAL)\n",
    "    receivedIntData = int.from_bytes(distance,byteorder='little',signed=False)\n",
    "    return receivedIntData"
   ]
  },
  {
   "cell_type": "code",
   "execution_count": null,
   "id": "716624f4-e3d5-49cc-a807-4abb7dc3fc40",
   "metadata": {},
   "outputs": [],
   "source": [
    "VL6180x_Run_Required_Settings()"
   ]
  },
  {
   "cell_type": "markdown",
   "id": "a5297f8e-054b-4b8a-878c-a22afc5964de",
   "metadata": {
    "tags": []
   },
   "source": [
    "### Main Get_Distance Loop"
   ]
  },
  {
   "cell_type": "code",
   "execution_count": null,
   "id": "fcd0cc29-8b55-468a-8046-38bed780ddbc",
   "metadata": {},
   "outputs": [],
   "source": [
    "for i in range(1000):\n",
    "    clear_output(wait=True)\n",
    "    Distance = get_distance()\n",
    "    print(\"Range: \",Distance,\"mm\")\n",
    "    time.sleep(0.05)\n",
    "    \n",
    "print(\"Done, restart :D\")"
   ]
  },
  {
   "cell_type": "markdown",
   "id": "22c4cd1e-1f92-42da-9d32-328fb98363f1",
   "metadata": {},
   "source": [
    "# LPS22DF Pressure Sensor I2C"
   ]
  },
  {
   "cell_type": "code",
   "execution_count": 23,
   "id": "d0e3f27d-4666-46ea-8e78-bfa16000c26d",
   "metadata": {},
   "outputs": [],
   "source": [
    "LPS22DF_address = 0x5C # With SDO low\n",
    "LPS22DF_CtrlReg1 = 0x10\n",
    "LPS22DF_PressureLSBData_Register= [0x28] # Automatically toggles from 0x28 to 0x2C"
   ]
  },
  {
   "cell_type": "code",
   "execution_count": 24,
   "id": "55c00beb-eeaa-43a9-b1d5-ff2846bb2f01",
   "metadata": {},
   "outputs": [],
   "source": [
    "def LPS22DF_set_register(register_address,data): #Usage: (0x__,0x__)\n",
    "    sending_data = [register_address]\n",
    "    sending_data.append(data)\n",
    "    iic.send(LPS22DF_address,sending_data,len(sending_data),0)\n",
    "    \n",
    "def LPS22DF_Receive_Data():\n",
    "    rx_data = bytes(5)\n",
    "    iic.send(LPS22DF_address,LPS22DF_PressureLSBData_Register,1,1)  # Setting register to 0x28 to read pressure and temperature data\n",
    "    iic.receive(LPS22DF_address,rx_data,5,0)\n",
    "    Pressure_Data = int.from_bytes(rx_data[:3],byteorder='little',signed=True)\n",
    "    Temper_Data = int.from_bytes(rx_data[3:5],byteorder='little',signed=True)\n",
    "    print(f\"Pressure(hPa): {float(Pressure_Data/4096):.2f}\")\n",
    "    print(f\"Temp(C): {float(Temper_Data/100):.2f}\")\n"
   ]
  },
  {
   "cell_type": "code",
   "execution_count": 25,
   "id": "687761a1-33ca-4619-a5ee-dfcf6d57f271",
   "metadata": {},
   "outputs": [],
   "source": [
    "LPS22DF_set_register(LPS22DF_CtrlReg1,0x08) # setting to 1hz continuous mode1"
   ]
  },
  {
   "cell_type": "markdown",
   "id": "bda78e69-0ec5-4eb6-8f25-f96e4191037b",
   "metadata": {},
   "source": [
    "### Main Loop for Pressure and Temp Data"
   ]
  },
  {
   "cell_type": "code",
   "execution_count": 26,
   "id": "e341825d-cfa8-461e-b9dc-9792f94788f6",
   "metadata": {},
   "outputs": [
    {
     "name": "stdout",
     "output_type": "stream",
     "text": [
      "23\n",
      "Pressure(hPa): 984.98\n",
      "Temp(C): 26.86\n"
     ]
    },
    {
     "ename": "KeyboardInterrupt",
     "evalue": "",
     "output_type": "error",
     "traceback": [
      "\u001b[0;31m---------------------------------------------------------------------------\u001b[0m",
      "\u001b[0;31mKeyboardInterrupt\u001b[0m                         Traceback (most recent call last)",
      "Input \u001b[0;32mIn [26]\u001b[0m, in \u001b[0;36m<cell line: 1>\u001b[0;34m()\u001b[0m\n\u001b[1;32m      3\u001b[0m \u001b[38;5;28mprint\u001b[39m(i)\n\u001b[1;32m      4\u001b[0m LPS22DF_Receive_Data()\n\u001b[0;32m----> 5\u001b[0m \u001b[43mtime\u001b[49m\u001b[38;5;241;43m.\u001b[39;49m\u001b[43msleep\u001b[49m\u001b[43m(\u001b[49m\u001b[38;5;241;43m0.5\u001b[39;49m\u001b[43m)\u001b[49m\n",
      "\u001b[0;31mKeyboardInterrupt\u001b[0m: "
     ]
    }
   ],
   "source": [
    "for i in range(1000):\n",
    "    clear_output(wait=True)    \n",
    "    print(i)\n",
    "    LPS22DF_Receive_Data()\n",
    "    time.sleep(0.5)"
   ]
  },
  {
   "cell_type": "code",
   "execution_count": null,
   "id": "82b6771b-b7f2-4727-b71c-5db9505c6f84",
   "metadata": {},
   "outputs": [],
   "source": []
  }
 ],
 "metadata": {
  "kernelspec": {
   "display_name": "Python 3 (ipykernel)",
   "language": "python",
   "name": "python3"
  },
  "language_info": {
   "codemirror_mode": {
    "name": "ipython",
    "version": 3
   },
   "file_extension": ".py",
   "mimetype": "text/x-python",
   "name": "python",
   "nbconvert_exporter": "python",
   "pygments_lexer": "ipython3",
   "version": "3.10.12"
  }
 },
 "nbformat": 4,
 "nbformat_minor": 5
}
