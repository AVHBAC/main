{
 "cells": [
  {
   "cell_type": "code",
   "execution_count": 1,
   "id": "a5f7291b-503b-4ffb-ad5c-509202bffe77",
   "metadata": {},
   "outputs": [
    {
     "data": {
      "application/javascript": "\ntry {\nrequire(['notebook/js/codecell'], function(codecell) {\n  codecell.CodeCell.options_default.highlight_modes[\n      'magic_text/x-csrc'] = {'reg':[/^%%microblaze/]};\n  Jupyter.notebook.events.one('kernel_ready.Kernel', function(){\n      Jupyter.notebook.get_cells().map(function(cell){\n          if (cell.cell_type == 'code'){ cell.auto_highlight(); } }) ;\n  });\n});\n} catch (e) {};\n"
     },
     "metadata": {},
     "output_type": "display_data"
    },
    {
     "data": {
      "application/javascript": "\ntry {\nrequire(['notebook/js/codecell'], function(codecell) {\n  codecell.CodeCell.options_default.highlight_modes[\n      'magic_text/x-csrc'] = {'reg':[/^%%pybind11/]};\n  Jupyter.notebook.events.one('kernel_ready.Kernel', function(){\n      Jupyter.notebook.get_cells().map(function(cell){\n          if (cell.cell_type == 'code'){ cell.auto_highlight(); } }) ;\n  });\n});\n} catch (e) {};\n"
     },
     "metadata": {},
     "output_type": "display_data"
    }
   ],
   "source": [
    "from pynq import Overlay\n",
    "overlay = Overlay('MainDesign.bit')"
   ]
  },
  {
   "cell_type": "code",
   "execution_count": null,
   "id": "15740893-d89d-4c3e-9c01-700b614413af",
   "metadata": {},
   "outputs": [],
   "source": [
    "overlay?"
   ]
  },
  {
   "cell_type": "markdown",
   "id": "78b8375b-d7f0-4663-a57e-540238d09e2b",
   "metadata": {},
   "source": [
    "## Pinout for PMOD testing:\n",
    "\n",
    "| 3.3v GND IN4 IN3 IN2 IN1 |\n",
    "\n",
    "| 3.3v GND NC  NC  NC  NC  |\n",
    "\n",
    "### Rotation speed is determined by sleep(value) in Rotate Functions"
   ]
  },
  {
   "cell_type": "code",
   "execution_count": 85,
   "id": "ee38b507-31a7-416b-8816-040af9883233",
   "metadata": {},
   "outputs": [],
   "source": [
    "from pynq.lib import AxiGPIO\n",
    "from time import sleep\n",
    "from IPython.display import clear_output\n",
    "gpio_ip = overlay.axi_gpio_0\n",
    "gpio_ip.channel1.setdirection(\"out\")\n",
    "\n",
    "# Mask:\n",
    "mask = 0xffffffff\n",
    "\n",
    "# Setting the mask for each step to rotate motor c\n",
    "Step1 =  0b1000\n",
    "Step2 = 0b0100\n",
    "Step3 =  0b0010\n",
    "Step4 =   0b0001"
   ]
  },
  {
   "cell_type": "code",
   "execution_count": 100,
   "id": "1333192e-b875-4915-9a33-9ddfd603b334",
   "metadata": {},
   "outputs": [],
   "source": [
    "def ClockWise(Value:int) -> None:\n",
    "    if Value == 0:\n",
    "        gpio_ip.channel1.write(Step1,mask)\n",
    "    elif Value == 1:\n",
    "        gpio_ip.channel1.write(Step2,mask)\n",
    "    elif Value == 2:\n",
    "        gpio_ip.channel1.write(Step3,mask)\n",
    "    else:\n",
    "        gpio_ip.channel1.write(Step4,mask)\n",
    "        \n",
    "def AntiClockWise(Value:int) -> None:\n",
    "    if Value == 0:\n",
    "        gpio_ip.channel1.write(Step4,mask)\n",
    "    elif Value == 1:\n",
    "        gpio_ip.channel1.write(Step3,mask)\n",
    "    elif Value == 2:\n",
    "        gpio_ip.channel1.write(Step2,mask)\n",
    "    else:\n",
    "        gpio_ip.channel1.write(Step1,mask)"
   ]
  },
  {
   "cell_type": "code",
   "execution_count": 108,
   "id": "e48064d2-fdb9-4e2e-aeb5-9947d273494b",
   "metadata": {},
   "outputs": [],
   "source": [
    "def RotateClockWise(NumOfTimes:int) -> None:\n",
    "    try:\n",
    "        for i in range(NumOfTimes):\n",
    "            for j in range(4):\n",
    "                ClockWise(j)\n",
    "                sleep(0.001)\n",
    "    except TypeError:\n",
    "        print(\"Usage: RotateClockWise(int Rotate # of Times)\")\n",
    "        \n",
    "def RotateAntiClockWise(NumOfTimes:int) -> None:\n",
    "    try:\n",
    "        for i in range(NumOfTimes):\n",
    "            for j in range(4):\n",
    "                AntiClockWise(j)\n",
    "                sleep(0.001)\n",
    "    except TypeError:\n",
    "        print(\"Usage: RotateAntiClockWise(int Rotate # of Times)\")\n"
   ]
  },
  {
   "cell_type": "code",
   "execution_count": 115,
   "id": "b4734566-2300-4328-97cc-9d8f737020ac",
   "metadata": {},
   "outputs": [],
   "source": [
    "RotateAntiClockWise(50)"
   ]
  },
  {
   "cell_type": "code",
   "execution_count": 112,
   "id": "ffc02c89-9ff6-4815-9f85-a5596c861c5d",
   "metadata": {},
   "outputs": [],
   "source": [
    "RotateClockWise(50)"
   ]
  }
 ],
 "metadata": {
  "kernelspec": {
   "display_name": "Python 3 (ipykernel)",
   "language": "python",
   "name": "python3"
  },
  "language_info": {
   "codemirror_mode": {
    "name": "ipython",
    "version": 3
   },
   "file_extension": ".py",
   "mimetype": "text/x-python",
   "name": "python",
   "nbconvert_exporter": "python",
   "pygments_lexer": "ipython3",
   "version": "3.10.12"
  }
 },
 "nbformat": 4,
 "nbformat_minor": 5
}
