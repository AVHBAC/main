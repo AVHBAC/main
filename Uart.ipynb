{
 "cells": [
  {
   "cell_type": "markdown",
   "id": "6d444efb-f982-4d12-9a40-ab4e2e486f36",
   "metadata": {},
   "source": [
    "# UART"
   ]
  },
  {
   "cell_type": "markdown",
   "id": "ce8ac567-ec57-46ad-ae48-b39830cebd7f",
   "metadata": {},
   "source": [
    "## !Currently testing, not fully completed!\n",
    "-- This got benched because we aren't going to use UART anymore(also BUGS)"
   ]
  },
  {
   "cell_type": "code",
   "execution_count": null,
   "id": "54adae15-681a-4660-965c-00b9b7821277",
   "metadata": {},
   "outputs": [],
   "source": [
    "from pynq import Overlay\n",
    "overlay = Overlay('MainDesign.bit')"
   ]
  },
  {
   "cell_type": "code",
   "execution_count": null,
   "id": "05e4c8ce-a222-4d17-a35e-9b1fb7880237",
   "metadata": {},
   "outputs": [],
   "source": [
    "overlay?"
   ]
  },
  {
   "cell_type": "code",
   "execution_count": null,
   "id": "0cd7a148-ea94-454a-9cd9-451634520de8",
   "metadata": {},
   "outputs": [],
   "source": [
    "from time import sleep, time\n",
    "from pynq import MMIO\n",
    "\n",
    "RX_FIFO = 0x00\n",
    "TX_FIFO = 0x04\n",
    "\n",
    "#Status Reg\n",
    "STAT_REG = 0x08\n",
    "RX_VALID = 0\n",
    "RX_FULL = 1\n",
    "TX_EMPTY = 2\n",
    "TX_FULL = 3\n",
    "IS_INTR = 4\n",
    "OVERRUN_ERR = 5\n",
    "FRAME_ERR = 6\n",
    "PARITY_ERR =7\n",
    "\n",
    "#Ctrl Reg\n",
    "CTRL_REG = 0x0C\n",
    "RST_TX = 0\n",
    "RST_RX = 1\n",
    "INTR_EN = 4\n",
    "\n",
    "class UartAXI:\n",
    "    def __init__(self, address):\n",
    "        # Setup axi core\n",
    "        self.uart = MMIO(address,0x10000, debug=False)\n",
    "        self.address = address\n",
    "\n",
    "    def getBit(self,num,pos):\n",
    "        return (num&1<<pos)>>pos\n",
    "\n",
    "    def setupCtrlReg(self):\n",
    "        # Reset FIFOs, disable interrupts\n",
    "        self.uart.write(CTRL_REG, 1<<RST_TX | 1<<RST_RX)\n",
    "        sleep(1)\n",
    "        self.uart.write(CTRL_REG,0)\n",
    "        sleep(1)\n",
    "\n",
    "    def currentStatus(self):\n",
    "        \"\"\"Returns object that specifies current status of axi core\"\"\"\n",
    "        status = self.uart.read(STAT_REG)\n",
    "        return {'RX_VALID':self.getBit(status,RX_VALID),\n",
    "            'RX_FULL':self.getBit(status, RX_FULL),\n",
    "            'TX_EMPTY':self.getBit(status, TX_EMPTY),\n",
    "            'TX_FULL':self.getBit(status, TX_FULL),\n",
    "            'IS_INTR':self.getBit(status, IS_INTR),\n",
    "            'OVERRUN_ERR':self.getBit(status, OVERRUN_ERR),\n",
    "            'FRAME_ERR':self.getBit(status, FRAME_ERR),\n",
    "            'PARITY_ERR':self.getBit(status, PARITY_ERR)}\n",
    "\n",
    "    def read(self, count, timeout = 10):\n",
    "        # status = currentStatus(uart) bad idea\n",
    "        buf = \"\"\n",
    "        stop_time = time() + timeout\n",
    "        for i in range(count):\n",
    "            # Wait till RX fifo has valid data, stop waiting if timeoutpasses\n",
    "            while (not (self.uart.read(STAT_REG) & 1<<RX_VALID)) and (time()<stop_time):\n",
    "                pass\n",
    "            if time()>=stop_time:\n",
    "                break\n",
    "            buf += chr(self.uart.read(RX_FIFO))\n",
    "        return buf\n",
    "\n",
    "    def write(self, buf, timeout = 10):\n",
    "        \"\"\"\n",
    "        buf: iterable\n",
    "        \n",
    "        \"\"\"\n",
    "        stop_time = time() + timeout\n",
    "        wr_count = 0\n",
    "        for i in buf:\n",
    "            #Wait while TX FIFO is Full, stop waiting if timeout passes \n",
    "            while (self.uart.read(STAT_REG) & 1<<TX_FULL) and (time()<stop_time):\n",
    "                pass\n",
    "            # Check timeout\n",
    "            if time()>stop_time:\n",
    "                break\n",
    "            self.uart.write(TX_FIFO, ord(i))\n",
    "            wr_count += 1\n",
    "        return wr_count   \n",
    "\n",
    "    def readLine(self):\n",
    "        buf = self.read(1)\n",
    "        if len(buf) ==0:\n",
    "            return \"\"\n",
    "        while '\\n' not in buf:\n",
    "            buf += self.read(1)\n",
    "        return buf"
   ]
  },
  {
   "cell_type": "code",
   "execution_count": null,
   "id": "6be2dbd7-5519-4b3b-8087-cfdbe6e8b031",
   "metadata": {},
   "outputs": [],
   "source": [
    "address = 0xA0010000\n",
    "uart = UartAXI(address)\n",
    "uart.setupCtrlReg()"
   ]
  },
  {
   "cell_type": "code",
   "execution_count": null,
   "id": "18e20254-b603-492d-b76e-3a6276c24bfe",
   "metadata": {},
   "outputs": [],
   "source": [
    "for i in range(1000):\n",
    "    uart.write(\"1\")"
   ]
  }
 ],
 "metadata": {
  "kernelspec": {
   "display_name": "Python 3 (ipykernel)",
   "language": "python",
   "name": "python3"
  },
  "language_info": {
   "codemirror_mode": {
    "name": "ipython",
    "version": 3
   },
   "file_extension": ".py",
   "mimetype": "text/x-python",
   "name": "python",
   "nbconvert_exporter": "python",
   "pygments_lexer": "ipython3",
   "version": "3.10.12"
  }
 },
 "nbformat": 4,
 "nbformat_minor": 5
}
